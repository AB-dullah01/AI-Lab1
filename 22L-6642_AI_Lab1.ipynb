{
  "nbformat": 4,
  "nbformat_minor": 0,
  "metadata": {
    "colab": {
      "provenance": []
    },
    "kernelspec": {
      "name": "python3",
      "display_name": "Python 3"
    },
    "language_info": {
      "name": "python"
    }
  },
  "cells": [
    {
      "cell_type": "code",
      "execution_count": 3,
      "metadata": {
        "colab": {
          "base_uri": "https://localhost:8080/"
        },
        "id": "GuAr8q-vyUbR",
        "outputId": "a802d6f2-26a2-4646-8cd6-184f26c93207"
      },
      "outputs": [
        {
          "output_type": "stream",
          "name": "stdout",
          "text": [
            "Enter your name:abd\n",
            "Enter your Age:21\n",
            "Hello abd Your age is: 21\n"
          ]
        }
      ],
      "source": [
        "name=input(\"Enter your name:\")\n",
        "age=input(\"Enter your Age:\")\n",
        "print(f\"Hello \"+name+ \" Your age is: \"+age)"
      ]
    },
    {
      "cell_type": "code",
      "source": [
        "x=input(\"Enter any number\")\n",
        "\n",
        "if x.isnumeric():\n",
        "    x=int(x)\n",
        "else:\n",
        "    x=float(x)\n",
        "print(type(x))\n"
      ],
      "metadata": {
        "colab": {
          "base_uri": "https://localhost:8080/"
        },
        "id": "7xuS7MYZzlua",
        "outputId": "ced5b3f8-3295-4819-8ba0-4daeb33b701c"
      },
      "execution_count": 14,
      "outputs": [
        {
          "output_type": "stream",
          "name": "stdout",
          "text": [
            "Enter anything4.6\n",
            "<class 'float'>\n"
          ]
        }
      ]
    },
    {
      "cell_type": "code",
      "source": [
        "x=[1,3,5,7,\"abd\",\"bc\"]\n",
        "print(x)\n",
        "print(\"adding an item\\n\")\n",
        "x.insert(1,67)\n",
        "print(x)\n",
        "print(\"removing an item\\n\")\n",
        "x.pop(3)\n",
        "print(x)\n"
      ],
      "metadata": {
        "colab": {
          "base_uri": "https://localhost:8080/"
        },
        "id": "_yUxT86w1hM-",
        "outputId": "00cde22b-1e53-4077-e523-f2d216aeee29"
      },
      "execution_count": 17,
      "outputs": [
        {
          "output_type": "stream",
          "name": "stdout",
          "text": [
            "[1, 3, 5, 7, 'abd', 'bc']\n",
            "adding an item\n",
            "\n",
            "[1, 67, 3, 5, 7, 'abd', 'bc']\n",
            "removing an item\n",
            "\n",
            "[1, 67, 3, 7, 'abd', 'bc']\n"
          ]
        }
      ]
    },
    {
      "cell_type": "code",
      "source": [
        "x=(\"abc\",\"def\",\"ghi\")\n",
        "print(x)\n",
        "print(type(x))\n",
        "(a,b,c)=x\n",
        "print(a)\n",
        "print(b)"
      ],
      "metadata": {
        "colab": {
          "base_uri": "https://localhost:8080/"
        },
        "id": "pYqKRVFI5sRl",
        "outputId": "1cf34a0c-be00-4cfa-c002-a65328d219a4"
      },
      "execution_count": 18,
      "outputs": [
        {
          "output_type": "stream",
          "name": "stdout",
          "text": [
            "('abc', 'def', 'ghi')\n",
            "<class 'tuple'>\n",
            "abc\n",
            "def\n"
          ]
        }
      ]
    },
    {
      "cell_type": "code",
      "source": [
        "mydict={\n",
        "      \"Ahmad\" : \"A\",\n",
        "      \"Abdullah\" : \"A-\",\n",
        "      \"Umer Naseer\": \"B\",\n",
        "      \"Ali\": \"C\",\n",
        "      \"Qasim\":\"D\"\n",
        "}\n",
        "print(mydict)"
      ],
      "metadata": {
        "colab": {
          "base_uri": "https://localhost:8080/"
        },
        "id": "P2vGeUnq6V-Z",
        "outputId": "4f29bcc3-8665-45af-b77d-5acdd17b5b7e"
      },
      "execution_count": 19,
      "outputs": [
        {
          "output_type": "stream",
          "name": "stdout",
          "text": [
            "{'Ahmad': 'A', 'Abdullah': 'A-', 'Umer Naseer': 'B', 'Ali': 'C', 'Qasim': 'D'}\n"
          ]
        }
      ]
    },
    {
      "cell_type": "code",
      "source": [
        "x=input(\"Enter list of anything\")\n",
        "y=list(x)\n",
        "\n",
        "a=input(\"Enter list of anything\")\n",
        "b=list(a)\n",
        "\n",
        "i=set(y)\n",
        "j=set(b)\n",
        "print(i)\n",
        "print(j)\n",
        "print(\"Intersection of sets\")\n",
        "k=set(i&j)\n",
        "print(k)\n",
        "\n",
        "print(\"Union of sets\")\n",
        "print(i|j)\n",
        "\n",
        "print(\"Difference of sets\")\n",
        "print(i-j)\n"
      ],
      "metadata": {
        "colab": {
          "base_uri": "https://localhost:8080/"
        },
        "id": "QxJou7Kj7MSf",
        "outputId": "6f3e65e6-c2cd-41d4-eb7b-521db18684ae"
      },
      "execution_count": 24,
      "outputs": [
        {
          "output_type": "stream",
          "name": "stdout",
          "text": [
            "Enter list of anything4,5,6,7\n",
            "Enter list of anything6,7,8,9\n",
            "{'6', '5', ',', '7', '4'}\n",
            "{'6', ',', '9', '7', '8'}\n",
            "Intersection of sets\n",
            "{'6', '7', ','}\n",
            "Union of sets\n",
            "{'6', ',', '5', '7', '9', '4', '8'}\n",
            "Difference of sets\n",
            "{'4', '5'}\n"
          ]
        }
      ]
    },
    {
      "cell_type": "code",
      "source": [
        "x=input(\"Enter a number\")\n",
        "if x.isnumeric():\n",
        "    x=int(x)\n",
        "else:\n",
        "    x=float(x)\n",
        "if x > 0:\n",
        "    print(\"Positive\")\n",
        "elif x < 0:\n",
        "    print(\"Negative\")\n",
        "else:\n",
        "    print(\"Zero\")\n",
        "\n",
        "if x % 2==0:\n",
        "    print(\"Number is even\")\n",
        "else:\n",
        "    print(\"Number is odd\")"
      ],
      "metadata": {
        "colab": {
          "base_uri": "https://localhost:8080/"
        },
        "id": "iPCZt3eW98Du",
        "outputId": "66010841-8323-4d14-c761-5b1149ac3fdd"
      },
      "execution_count": 26,
      "outputs": [
        {
          "output_type": "stream",
          "name": "stdout",
          "text": [
            "Enter a number34\n",
            "Positive\n",
            "Number is even\n"
          ]
        }
      ]
    },
    {
      "cell_type": "code",
      "source": [
        "\n",
        "x=list(range(1,51))\n",
        "print(x)\n",
        "\n",
        "for i in range(len(x)):\n",
        "    if x[i]%3==0 and x[i]%5==0:\n",
        "        (x[i])=\"fizzbuzz\"\n",
        "    elif x[i]%3==0:\n",
        "        (x[i])=\"fizz\"\n",
        "    elif x[i]%5==0:\n",
        "        (x[i])=\"buzz\"\n",
        "\n",
        "print(x)\n",
        "\n"
      ],
      "metadata": {
        "colab": {
          "base_uri": "https://localhost:8080/"
        },
        "id": "jM7RcKNl-0q1",
        "outputId": "56fc6f58-a39b-4262-9541-05dd935e7d5d"
      },
      "execution_count": 43,
      "outputs": [
        {
          "output_type": "stream",
          "name": "stdout",
          "text": [
            "[1, 2, 3, 4, 5, 6, 7, 8, 9, 10, 11, 12, 13, 14, 15, 16, 17, 18, 19, 20, 21, 22, 23, 24, 25, 26, 27, 28, 29, 30, 31, 32, 33, 34, 35, 36, 37, 38, 39, 40, 41, 42, 43, 44, 45, 46, 47, 48, 49, 50]\n",
            "[1, 2, 'fizz', 4, 'buzz', 'fizz', 7, 8, 'fizz', 'buzz', 11, 'fizz', 13, 14, 'fizzbuzz', 16, 17, 'fizz', 19, 'buzz', 'fizz', 22, 23, 'fizz', 'buzz', 26, 'fizz', 28, 29, 'fizzbuzz', 31, 32, 'fizz', 34, 'buzz', 'fizz', 37, 38, 'fizz', 'buzz', 41, 'fizz', 43, 44, 'fizzbuzz', 46, 47, 'fizz', 49, 'buzz']\n"
          ]
        }
      ]
    },
    {
      "cell_type": "code",
      "source": [
        "x=input(\"Enter the number to find its factorial\")\n",
        "x=int(x)\n",
        "fact=1\n",
        "for i in range(1,x+1):\n",
        "    fact=fact*i\n",
        "print(fact)\n",
        "\n"
      ],
      "metadata": {
        "colab": {
          "base_uri": "https://localhost:8080/"
        },
        "id": "-1Uyt2SzCjpl",
        "outputId": "46d72018-2907-446b-b303-803d3bdb82a8"
      },
      "execution_count": 45,
      "outputs": [
        {
          "output_type": "stream",
          "name": "stdout",
          "text": [
            "Enter the number to find its factorial5\n",
            "120\n"
          ]
        }
      ]
    },
    {
      "cell_type": "code",
      "source": [
        "x=input(\"Enter the number to check for prime number\")\n",
        "x=int(x)\n",
        "\n",
        "if x > 1:\n",
        "  for i in range (2,(x//2)+1):\n",
        "      if (x%i)==0:\n",
        "          print(x,\"is not a prime number\")\n",
        "          break\n",
        "  else:\n",
        "      print(x,\"is a prime number\")\n"
      ],
      "metadata": {
        "colab": {
          "base_uri": "https://localhost:8080/"
        },
        "id": "b33P17XvDVvi",
        "outputId": "be2621e7-d639-45df-91ed-aa86317a1052"
      },
      "execution_count": 46,
      "outputs": [
        {
          "output_type": "stream",
          "name": "stdout",
          "text": [
            "Enter the number to find its factorial97\n",
            "97 is a prime number\n"
          ]
        }
      ]
    },
    {
      "cell_type": "code",
      "source": [
        "x=input(\"Enter list of numbers\").split(\",\")\n",
        "print(x)\n",
        "\n",
        "new_list=[]\n",
        "def sq_of_num(x):\n",
        "    for i in range(len(x)):\n",
        "        x[i]=int(x[i])\n",
        "        x[i]=x[i]**2\n",
        "        new_list.append(x[i])\n",
        "    return x\n",
        "\n",
        "print(sq_of_num(x))"
      ],
      "metadata": {
        "colab": {
          "base_uri": "https://localhost:8080/"
        },
        "id": "TDX0QZ4AEWcI",
        "outputId": "7839ab10-de5c-4480-c508-a708845e43d4"
      },
      "execution_count": 49,
      "outputs": [
        {
          "output_type": "stream",
          "name": "stdout",
          "text": [
            "Enter list of numbers1,2,3,4,5\n",
            "['1', '2', '3', '4', '5']\n",
            "[1, 4, 9, 16, 25]\n"
          ]
        }
      ]
    },
    {
      "cell_type": "code",
      "source": [
        "d1 = {'x': 1, 'y': 2}\n",
        "d2 = {'y': 3, 'z': 4}\n",
        "print(\"Original dictionaries:\")\n",
        "print(d1)\n",
        "print(d2)\n",
        "print(\"Merging Dictionaries\")\n",
        "d1.update(d2)\n",
        "print(d1)"
      ],
      "metadata": {
        "colab": {
          "base_uri": "https://localhost:8080/"
        },
        "id": "CMmaPBFYFs5Z",
        "outputId": "8bb49c16-f3ff-4c4e-e293-edd7a35d916d"
      },
      "execution_count": 52,
      "outputs": [
        {
          "output_type": "stream",
          "name": "stdout",
          "text": [
            "Original dictionaries:\n",
            "{'x': 1, 'y': 2}\n",
            "{'y': 3, 'z': 4}\n",
            "Merging Dictionaries\n",
            "{'x': 1, 'y': 3, 'z': 4}\n"
          ]
        }
      ]
    },
    {
      "cell_type": "code",
      "source": [
        "x=input(\"Enter list of numbers\").split(\",\")\n",
        "print(x)\n",
        "\n",
        "y=list(dict.fromkeys(x))\n",
        "print(y)"
      ],
      "metadata": {
        "colab": {
          "base_uri": "https://localhost:8080/"
        },
        "id": "YbC_KHleGy1w",
        "outputId": "61788370-7f26-4c49-9a9d-712572e72767"
      },
      "execution_count": 53,
      "outputs": [
        {
          "output_type": "stream",
          "name": "stdout",
          "text": [
            "Enter list of numbers1,2,2,3,4,5,5,6,6\n",
            "['1', '2', '2', '3', '4', '5', '5', '6', '6']\n",
            "['1', '2', '3', '4', '5', '6']\n"
          ]
        }
      ]
    },
    {
      "cell_type": "code",
      "source": [
        "string1 = \"racecar\"\n",
        "string2 = \"A man, a plan, a canal, Panama\"\n",
        "string3 = \"hello\"\n",
        "is_palindrome = lambda text: text.lower().replace(\" \", \"\") == text.lower().replace(\" \", \"\")[::-1]\n",
        "print(is_palindrome(string1))\n",
        "print(is_palindrome(string2))\n",
        "print(is_palindrome(string3))"
      ],
      "metadata": {
        "colab": {
          "base_uri": "https://localhost:8080/"
        },
        "id": "jNrc-dHbHU8w",
        "outputId": "b8333d69-a3f6-472b-a834-16036c85b099"
      },
      "execution_count": 54,
      "outputs": [
        {
          "output_type": "stream",
          "name": "stdout",
          "text": [
            "True\n",
            "False\n",
            "False\n"
          ]
        }
      ]
    },
    {
      "cell_type": "code",
      "source": [
        "def generate_fibonacci(n):\n",
        "\n",
        "  fibonacci_sequence = []\n",
        "  a, b = 0, 1\n",
        "\n",
        "  for _ in range(n):\n",
        "    fibonacci_sequence.append(a)\n",
        "    a, b = b, a + b\n",
        "\n",
        "  return fibonacci_sequence\n",
        "\n",
        "n = int(input(\"Enter the number of Fibonacci numbers to generate: \"))\n",
        "\n",
        "fibonacci_numbers = generate_fibonacci(n)\n",
        "print(fibonacci_numbers)"
      ],
      "metadata": {
        "colab": {
          "base_uri": "https://localhost:8080/"
        },
        "id": "dOnI3WYCIzLS",
        "outputId": "fa8cdbdd-4661-43b8-dfe8-ca05cdf9a59d"
      },
      "execution_count": 55,
      "outputs": [
        {
          "output_type": "stream",
          "name": "stdout",
          "text": [
            "Enter the number of Fibonacci numbers to generate: 6\n",
            "[0, 1, 1, 2, 3, 5]\n"
          ]
        }
      ]
    },
    {
      "cell_type": "code",
      "source": [
        "for i in range(1, 11):\n",
        "  for j in range(1, 11):\n",
        "    print(i * j, end=\"\\t\")\n",
        "  print()"
      ],
      "metadata": {
        "colab": {
          "base_uri": "https://localhost:8080/"
        },
        "id": "z9iueboJO0MV",
        "outputId": "9a1b6aa8-487b-40a6-c510-a113196c9f9e"
      },
      "execution_count": 72,
      "outputs": [
        {
          "output_type": "stream",
          "name": "stdout",
          "text": [
            "1\t2\t3\t4\t5\t6\t7\t8\t9\t10\t\n",
            "2\t4\t6\t8\t10\t12\t14\t16\t18\t20\t\n",
            "3\t6\t9\t12\t15\t18\t21\t24\t27\t30\t\n",
            "4\t8\t12\t16\t20\t24\t28\t32\t36\t40\t\n",
            "5\t10\t15\t20\t25\t30\t35\t40\t45\t50\t\n",
            "6\t12\t18\t24\t30\t36\t42\t48\t54\t60\t\n",
            "7\t14\t21\t28\t35\t42\t49\t56\t63\t70\t\n",
            "8\t16\t24\t32\t40\t48\t56\t64\t72\t80\t\n",
            "9\t18\t27\t36\t45\t54\t63\t72\t81\t90\t\n",
            "10\t20\t30\t40\t50\t60\t70\t80\t90\t100\t\n"
          ]
        }
      ]
    },
    {
      "cell_type": "code",
      "source": [
        "def cal_average(numbers):\n",
        "    if not numbers:\n",
        "        return None\n",
        "\n",
        "    numeric_numbers = [num for num in numbers if isinstance(num, (int, float))]\n",
        "    if len(numeric_numbers) != len(numbers):\n",
        "        return None\n",
        "\n",
        "    return sum(numeric_numbers) / len(numeric_numbers)\n",
        "\n",
        "\n",
        "def get_numbers():\n",
        "    numbers = []\n",
        "    while True:\n",
        "          num_str = input(\"Enter a number (or type 'done' to finish): \")\n",
        "          if num_str.lower() == 'done':\n",
        "              break\n",
        "          num = float(num_str)\n",
        "          numbers.append(num)\n",
        "\n",
        "    return numbers\n",
        "\n",
        "\n",
        "if __name__ == \"__main__\":\n",
        "    numbers = get_numbers()\n",
        "    average = cal_average(numbers)\n",
        "\n",
        "    if average is not None:\n",
        "        print(\"The average is:\", average)\n",
        "    else:\n",
        "        print(\"Could not calculate the average. Please enter valid numeric input.\")"
      ],
      "metadata": {
        "id": "7ijbKGAmPQ50"
      },
      "execution_count": null,
      "outputs": []
    },
    {
      "cell_type": "code",
      "source": [
        "\n",
        "def register(users):\n",
        "  username = input(\"Enter a username: \")\n",
        "  if username in users:\n",
        "    print(\"Username already exists. Please choose a different one.\")\n",
        "    return\n",
        "  password = input(\"Enter a password: \")\n",
        "  users[username] = password\n",
        "  print(\"Registration successful!\")\n",
        "\n",
        "def login(users):\n",
        "  username = input(\"Enter your username: \")\n",
        "  if username not in users:\n",
        "    print(\"User not found.\")\n",
        "    return False\n",
        "  password = input(\"Enter your password: \")\n",
        "  if users[username] == password:\n",
        "    print(\"Login successful!\")\n",
        "    return True\n",
        "  else:\n",
        "    print(\"Incorrect password.\")\n",
        "    return False\n",
        "\n",
        "users = {}\n",
        "\n",
        "while True:\n",
        "  print(\"\\nMenu:\")\n",
        "  print(\"1. Register\")\n",
        "  print(\"2. Login\")\n",
        "  print(\"3. Exit\")\n",
        "\n",
        "  choice = input(\"Enter your choice: \")\n",
        "\n",
        "  if choice == '1':\n",
        "    register(users)\n",
        "  elif choice == '2':\n",
        "    login(users)\n",
        "  elif choice == '3':\n",
        "    break\n",
        "  else:\n",
        "    print(\"Invalid choice.\")"
      ],
      "metadata": {
        "colab": {
          "base_uri": "https://localhost:8080/"
        },
        "id": "EhFefbvlPeSu",
        "outputId": "54bdeaf9-869a-421d-d58a-af62bdaa2c6b"
      },
      "execution_count": 75,
      "outputs": [
        {
          "name": "stdout",
          "output_type": "stream",
          "text": [
            "\n",
            "Menu:\n",
            "1. Register\n",
            "2. Login\n",
            "3. Exit\n",
            "Enter your choice: 1\n",
            "Enter a username: abd\\\n",
            "Enter a password: 1234\n",
            "Registration successful!\n",
            "\n",
            "Menu:\n",
            "1. Register\n",
            "2. Login\n",
            "3. Exit\n",
            "Enter your choice: 2\n",
            "Enter your username: abd\\\n",
            "Enter your password: 1234\n",
            "Login successful!\n",
            "\n",
            "Menu:\n",
            "1. Register\n",
            "2. Login\n",
            "3. Exit\n",
            "Enter your choice: 3\n"
          ]
        }
      ]
    },
    {
      "cell_type": "code",
      "source": [
        "def word_frequency(text):\n",
        "    words = text.lower().split()\n",
        "    frequency = {}\n",
        "    for word in words:\n",
        "        frequency[word] = frequency.get(word,0) + 1\n",
        "    return frequency\n",
        "\n",
        "user_input = input(\"Enter a list of words separated by spaces: \")\n",
        "word_counts = word_frequency(user_input)\n",
        "word_counts"
      ],
      "metadata": {
        "colab": {
          "base_uri": "https://localhost:8080/"
        },
        "id": "8X2ZWtY3Pzbr",
        "outputId": "3b19a6f2-4e23-4070-945f-067898081e24"
      },
      "execution_count": 76,
      "outputs": [
        {
          "name": "stdout",
          "output_type": "stream",
          "text": [
            "Enter a list of words separated by spaces: tour abd efg\n"
          ]
        },
        {
          "output_type": "execute_result",
          "data": {
            "text/plain": [
              "{'tour': 1, 'abd': 1, 'efg': 1}"
            ]
          },
          "metadata": {},
          "execution_count": 76
        }
      ]
    },
    {
      "cell_type": "code",
      "source": [
        "def convert_temperature():\n",
        "\n",
        "\n",
        "    while True:\n",
        "        choice = input(\"Convert to (C)elsius or (F)ahrenheit? \").upper()\n",
        "        if choice in ('C', 'F'):\n",
        "            break\n",
        "        else:\n",
        "            print(\"Invalid choice. Please enter 'C' or 'F'.\")\n",
        "\n",
        "    try:\n",
        "        temp = float(input(\"Enter the temperature value: \"))\n",
        "    except ValueError:\n",
        "        print(\"Invalid temperature value. Please enter a number.\")\n",
        "        return\n",
        "\n",
        "    if choice == 'C':\n",
        "        celsius = (temp - 32) * 5/9\n",
        "        print(f\"{temp}°F is equal to {celsius:.2f}°C\")\n",
        "    else:\n",
        "        fahrenheit = (temp * 9/5) + 32\n",
        "        print(f\"{temp}°C is equal to {fahrenheit:.2f}°F\")\n",
        "\n",
        "convert_temperature()"
      ],
      "metadata": {
        "colab": {
          "base_uri": "https://localhost:8080/"
        },
        "id": "AgbchnvtP-ed",
        "outputId": "21dd0dde-2546-4503-d4dd-7f06f309fbe0"
      },
      "execution_count": 78,
      "outputs": [
        {
          "output_type": "stream",
          "name": "stdout",
          "text": [
            "Convert to (C)elsius or (F)ahrenheit? C\n",
            "Enter the temperature value: 10\n",
            "10.0°F is equal to -12.22°C\n"
          ]
        }
      ]
    }
  ]
}